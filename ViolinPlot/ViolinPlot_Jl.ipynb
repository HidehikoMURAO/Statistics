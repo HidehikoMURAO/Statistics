{
 "cells": [
  {
   "cell_type": "code",
   "execution_count": 1,
   "metadata": {},
   "outputs": [
    {
     "data": {
      "text/plain": [
       "despine (generic function with 1 method)"
      ]
     },
     "execution_count": 1,
     "metadata": {},
     "output_type": "execute_result"
    }
   ],
   "source": [
    "using Seaborn: Seaborn\n",
    "const sns = Seaborn\n",
    "sns.@delegate despine "
   ]
  },
  {
   "cell_type": "code",
   "execution_count": 2,
   "metadata": {},
   "outputs": [
    {
     "data": {
      "text/plain": [
       "PyObject <module 'pandas' from '/Users/hide/.julia/conda/3/lib/python3.7/site-packages/pandas/__init__.py'>"
      ]
     },
     "execution_count": 2,
     "metadata": {},
     "output_type": "execute_result"
    }
   ],
   "source": [
    "using PyCall\n",
    "const pd = pyimport(\"pandas\")"
   ]
  },
  {
   "cell_type": "code",
   "execution_count": 3,
   "metadata": {},
   "outputs": [
    {
     "data": {
      "text/html": [
       "<table class=\"data-frame\"><thead><tr><th></th><th>species</th><th>length</th></tr><tr><th></th><th>String</th><th>Int64</th></tr></thead><tbody><p>20 rows × 2 columns</p><tr><th>1</th><td>A</td><td>2</td></tr><tr><th>2</th><td>A</td><td>3</td></tr><tr><th>3</th><td>A</td><td>3</td></tr><tr><th>4</th><td>A</td><td>4</td></tr><tr><th>5</th><td>A</td><td>4</td></tr><tr><th>6</th><td>A</td><td>4</td></tr><tr><th>7</th><td>A</td><td>4</td></tr><tr><th>8</th><td>A</td><td>5</td></tr><tr><th>9</th><td>A</td><td>5</td></tr><tr><th>10</th><td>A</td><td>6</td></tr><tr><th>11</th><td>B</td><td>5</td></tr><tr><th>12</th><td>B</td><td>6</td></tr><tr><th>13</th><td>B</td><td>6</td></tr><tr><th>14</th><td>B</td><td>7</td></tr><tr><th>15</th><td>B</td><td>7</td></tr><tr><th>16</th><td>B</td><td>7</td></tr><tr><th>17</th><td>B</td><td>7</td></tr><tr><th>18</th><td>B</td><td>8</td></tr><tr><th>19</th><td>B</td><td>8</td></tr><tr><th>20</th><td>B</td><td>9</td></tr></tbody></table>"
      ],
      "text/latex": [
       "\\begin{tabular}{r|cc}\n",
       "\t& species & length\\\\\n",
       "\t\\hline\n",
       "\t& String & Int64\\\\\n",
       "\t\\hline\n",
       "\t1 & A & 2 \\\\\n",
       "\t2 & A & 3 \\\\\n",
       "\t3 & A & 3 \\\\\n",
       "\t4 & A & 4 \\\\\n",
       "\t5 & A & 4 \\\\\n",
       "\t6 & A & 4 \\\\\n",
       "\t7 & A & 4 \\\\\n",
       "\t8 & A & 5 \\\\\n",
       "\t9 & A & 5 \\\\\n",
       "\t10 & A & 6 \\\\\n",
       "\t11 & B & 5 \\\\\n",
       "\t12 & B & 6 \\\\\n",
       "\t13 & B & 6 \\\\\n",
       "\t14 & B & 7 \\\\\n",
       "\t15 & B & 7 \\\\\n",
       "\t16 & B & 7 \\\\\n",
       "\t17 & B & 7 \\\\\n",
       "\t18 & B & 8 \\\\\n",
       "\t19 & B & 8 \\\\\n",
       "\t20 & B & 9 \\\\\n",
       "\\end{tabular}\n"
      ],
      "text/plain": [
       "20×2 DataFrames.DataFrame\n",
       "│ Row │ species │ length │\n",
       "│     │ \u001b[90mString\u001b[39m  │ \u001b[90mInt64\u001b[39m  │\n",
       "├─────┼─────────┼────────┤\n",
       "│ 1   │ A       │ 2      │\n",
       "│ 2   │ A       │ 3      │\n",
       "│ 3   │ A       │ 3      │\n",
       "│ 4   │ A       │ 4      │\n",
       "│ 5   │ A       │ 4      │\n",
       "│ 6   │ A       │ 4      │\n",
       "│ 7   │ A       │ 4      │\n",
       "│ 8   │ A       │ 5      │\n",
       "│ 9   │ A       │ 5      │\n",
       "│ 10  │ A       │ 6      │\n",
       "│ 11  │ B       │ 5      │\n",
       "│ 12  │ B       │ 6      │\n",
       "│ 13  │ B       │ 6      │\n",
       "│ 14  │ B       │ 7      │\n",
       "│ 15  │ B       │ 7      │\n",
       "│ 16  │ B       │ 7      │\n",
       "│ 17  │ B       │ 7      │\n",
       "│ 18  │ B       │ 8      │\n",
       "│ 19  │ B       │ 8      │\n",
       "│ 20  │ B       │ 9      │"
      ]
     },
     "execution_count": 3,
     "metadata": {},
     "output_type": "execute_result"
    }
   ],
   "source": [
    "using CSV\n",
    "# using DataFrames\n",
    "fish_multi = CSV.read(\"3-3-2-fish_multi_2.csv\")"
   ]
  },
  {
   "cell_type": "code",
   "execution_count": 4,
   "metadata": {},
   "outputs": [
    {
     "ename": "ErrorException",
     "evalue": "syntax: misplaced assignment statement in \"[x = \"species\", y = \"length\"]\"",
     "output_type": "error",
     "traceback": [
      "syntax: misplaced assignment statement in \"[x = \"species\", y = \"length\"]\"",
      ""
     ]
    }
   ],
   "source": [
    "sns.title(\"violinplot\")\n",
    "sns.violinplot(data=[x=\"species\", y=\"length\"], inner=\"quartile\", palette=\"pastel\")\n",
    "despine(left=true)\n",
    "\n",
    "#sns.violinplot(x=:species, y=:length)\n",
    "# sns.violinplot(data = [x = \"species\", y = \"length\"])\n",
    "\n",
    "# sns.subplot(132)\n",
    "# sns.title(\"violinplot\")\n",
    "# sns.violinplot(data=[Y0, Y1], inner=\"quartile\", palette=\"pastel\")\n",
    "# despine(left=true)\n",
    "\n",
    "# sns.violinplot(data=[x=\"species\", y=\"length\"], inner=\"quartile\", palette=\"pastel\")\n",
    "# despine(left=true)"
   ]
  },
  {
   "cell_type": "code",
   "execution_count": null,
   "metadata": {},
   "outputs": [],
   "source": []
  }
 ],
 "metadata": {
  "@webio": {
   "lastCommId": null,
   "lastKernelId": null
  },
  "kernelspec": {
   "display_name": "Julia 1.1.0",
   "language": "julia",
   "name": "julia-1.1"
  },
  "language_info": {
   "file_extension": ".jl",
   "mimetype": "application/julia",
   "name": "julia",
   "version": "1.1.0"
  }
 },
 "nbformat": 4,
 "nbformat_minor": 4
}
